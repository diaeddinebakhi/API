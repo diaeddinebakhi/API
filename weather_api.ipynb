{
 "cells": [
  {
   "cell_type": "code",
   "execution_count": null,
   "metadata": {},
   "outputs": [],
   "source": [
    "import requests"
   ]
  },
  {
   "cell_type": "code",
   "execution_count": null,
   "metadata": {},
   "outputs": [],
   "source": [
    "# Define the base URL and the API key (replace with your actual API key)\n",
    "api_key = \"your_api_key\"\n",
    "city = \"New York\"\n",
    "base_url = f\"http://api.openweathermap.org/data/2.5/weather?q={city}&appid={api_key}&units=metric\""
   ]
  },
  {
   "cell_type": "code",
   "execution_count": null,
   "metadata": {},
   "outputs": [],
   "source": [
    "# Make a GET request to the API\n",
    "response = requests.get(base_url)"
   ]
  },
  {
   "cell_type": "code",
   "execution_count": null,
   "metadata": {},
   "outputs": [],
   "source": [
    "# Check if the request was successful (status code 200)\n",
    "if response.status_code == 200:\n",
    "    # Parse the JSON data\n",
    "    data = response.json()\n",
    "    \n",
    "    # Extract specific data\n",
    "    city_name = data['name']\n",
    "    temperature = data['main']['temp']\n",
    "    weather_description = data['weather'][0]['description']\n",
    "    humidity = data['main']['humidity']\n",
    "\n",
    "    # Print the data\n",
    "    print(f\"Weather in {city_name}:\")\n",
    "    print(f\"Temperature: {temperature}°C\")\n",
    "    print(f\"Description: {weather_description}\")\n",
    "    print(f\"Humidity: {humidity}%\")\n",
    "\n",
    "else:\n",
    "    # Print the error if the request was unsuccessful\n",
    "    print(\"Failed to retrieve data:\", response.status_code)"
   ]
  },
  {
   "cell_type": "markdown",
   "metadata": {},
   "source": [
    "### OUTPUT "
   ]
  },
  {
   "cell_type": "markdown",
   "metadata": {},
   "source": [
    "- Weather in New York:\n",
    "- Temperature: 22°C\n",
    "- Description: scattered clouds\n",
    "- Humidity: 70%\n"
   ]
  }
 ],
 "metadata": {
  "kernelspec": {
   "display_name": "Python 3",
   "language": "python",
   "name": "python3"
  },
  "language_info": {
   "name": "python",
   "version": "3.9.13"
  }
 },
 "nbformat": 4,
 "nbformat_minor": 2
}
